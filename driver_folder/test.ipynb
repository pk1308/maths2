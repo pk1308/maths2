{
 "cells": [
  {
   "cell_type": "code",
   "execution_count": 2,
   "metadata": {},
   "outputs": [],
   "source": [
    "import json\n",
    "import os\n",
    "import sys\n",
    "from pathlib import Path\n",
    "from typing import Any\n",
    "import yaml\n",
    "from ensure import ensure_annotations\n",
    "from loguru import logger\n",
    "logger.add(sys.stdout, colorize=True, format=\"<green>{time}</green> <level>{message}</level>\")\n",
    "\n",
    "\n",
    "@ensure_annotations\n",
    "def read_yaml_as_dict(path_to_yaml: Path):\n",
    "    \"\"\"reads yaml file and returns\n",
    "\n",
    "    Args:\n",
    "        path_to_yaml (str): path like input\n",
    "\n",
    "    Raises:\n",
    "        ValueError: if yaml file is empty\n",
    "        e: empty file\n",
    "\n",
    "    Returns:\n",
    "        ConfigBox: ConfigBox type\n",
    "    \"\"\"\n",
    "    try:\n",
    "        with open(path_to_yaml) as yaml_file:\n",
    "            content = yaml.safe_load(yaml_file)\n",
    "            logger.info(f\"yaml file: {path_to_yaml} loaded successfully\")\n",
    "            return content\n",
    "    except Exception as e:\n",
    "        raise e\n",
    "\n",
    "\n",
    "\n",
    "@ensure_annotations\n",
    "def write_yaml(file_path: Path, data: dict = None):\n",
    "    \"\"\" write yaml file from dic\n",
    "\n",
    "    Args:\n",
    "        file_path (Path):  file path with file name \n",
    "        data (dict, optional): Data to same as yaml\n",
    "\n",
    "    Raises:\n",
    "        App_Exception: _description_\n",
    "    \"\"\"\n",
    "\n",
    "    try:\n",
    "        os.makedirs(os.path.dirname(file_path), exist_ok=True)\n",
    "        with open(file_path, \"w\") as yaml_file:\n",
    "            if data is not None:\n",
    "                yaml.dump(data, yaml_file)\n",
    "    except Exception as e:\n",
    "        raise  e\n",
    "    \n",
    "import subprocess\n",
    "import os\n",
    "\n",
    "def convert_ipynb_to_markdown(folder_path):\n",
    "  \"\"\"Converts all Jupyter notebooks in a folder to markdown files.\n",
    "\n",
    "  Args:\n",
    "    folder_path: The path to the directory containing the notebooks.\n",
    "  \"\"\"\n",
    "  for root, dirs, files in os.walk(folder_path):\n",
    "    for filename in files:\n",
    "      if filename.endswith(\".ipynb\"):\n",
    "        full_path = os.path.join(root, filename)\n",
    "        # Check for nbconvert existence before running command\n",
    "        try:\n",
    "          subprocess.run([\"jupyter\", \"nbconvert\", \"--to\", \"markdown\", full_path], check=True)\n",
    "          print(f\"Converted {filename} to markdown successfully.\")\n",
    "        except subprocess.CalledProcessError:\n",
    "          print(f\"Error converting {filename}. nbconvert might not be installed.\")\n"
   ]
  },
  {
   "cell_type": "code",
   "execution_count": 1,
   "metadata": {},
   "outputs": [
    {
     "ename": "NameError",
     "evalue": "name 'convert_ipynb_to_markdown' is not defined",
     "output_type": "error",
     "traceback": [
      "\u001b[0;31m---------------------------------------------------------------------------\u001b[0m",
      "\u001b[0;31mNameError\u001b[0m                                 Traceback (most recent call last)",
      "Cell \u001b[0;32mIn[1], line 61\u001b[0m\n\u001b[1;32m     58\u001b[0m       \u001b[38;5;28;01mraise\u001b[39;00m \u001b[38;5;167;01mFileNotFoundError\u001b[39;00m(\u001b[38;5;124mf\u001b[39m\u001b[38;5;124m\"\u001b[39m\u001b[38;5;124mMkDocs configuration file not found: \u001b[39m\u001b[38;5;132;01m{\u001b[39;00mfile_path\u001b[38;5;132;01m}\u001b[39;00m\u001b[38;5;124m\"\u001b[39m)\n\u001b[1;32m     60\u001b[0m \u001b[38;5;28;01mif\u001b[39;00m \u001b[38;5;18m__name__\u001b[39m \u001b[38;5;241m==\u001b[39m \u001b[38;5;124m\"\u001b[39m\u001b[38;5;124m__main__\u001b[39m\u001b[38;5;124m\"\u001b[39m:\n\u001b[0;32m---> 61\u001b[0m     \u001b[43mconvert_ipynb_to_markdown\u001b[49m(folder_path \u001b[38;5;241m=\u001b[39m \u001b[38;5;124m\"\u001b[39m\u001b[38;5;124m./docs\u001b[39m\u001b[38;5;124m\"\u001b[39m)\n\u001b[1;32m     62\u001b[0m     navigation_data \u001b[38;5;241m=\u001b[39m create_navigation_from_markdown()\n\u001b[1;32m     63\u001b[0m     update_mkdocs_config(navigation_data)\n",
      "\u001b[0;31mNameError\u001b[0m: name 'convert_ipynb_to_markdown' is not defined"
     ]
    }
   ],
   "source": [
    "import os\n",
    "from pathlib import Path\n",
    "\n",
    "def create_navigation_from_markdown(folder_path=\"./docs\", mkdocs_config_file=\"mkdocs.yml\"):\n",
    "  \"\"\"\n",
    "  Generates a navigation menu for MkDocs based on the structure of Markdown files.\n",
    "\n",
    "  Args:\n",
    "      folder_path (str, optional): Path to the directory containing Markdown files. Defaults to \"./docs\".\n",
    "      mkdocs_config_file (str, optional): Path to the MkDocs configuration file. Defaults to \"mkdocs.yml\".\n",
    "\n",
    "  Returns:\n",
    "      dict: The generated navigation structure dictionary in MkDocs format.\n",
    "\n",
    "  Raises:\n",
    "      FileNotFoundError: If the MkDocs configuration file is not found.\n",
    "  \"\"\"\n",
    "  markdown_files = []\n",
    "  for root, dirs, files in os.walk(folder_path):\n",
    "      for filename in files:\n",
    "          if filename.endswith(\".md\"):\n",
    "              full_path = os.path.join(root, filename)\n",
    "              directory_name = Path(\"/\".join(full_path.split(\"/\")[2:]))\n",
    "              markdown_files.append(directory_name)\n",
    "\n",
    "  nav_value = {\"Home\": []}\n",
    "  for file in markdown_files:\n",
    "      split_value = str(file).split(\"/\")\n",
    "      if len(split_value) == 1:\n",
    "          nav_value[\"Home\"].append(str(file))\n",
    "      else:\n",
    "          key = split_value[0]\n",
    "          if key not in nav_value.keys():\n",
    "              nav_value[key] = [str(file)]\n",
    "          else:\n",
    "              nav_value[key].append(str(file))\n",
    "\n",
    "  return {\"nav\": [{\"name\": key, \"children\": value} for key, value in nav_value.items()]}\n",
    "\n",
    "def update_mkdocs_config(navigation_data, mkdocs_config_file=\"mkdocs.yml\"):\n",
    "  \"\"\"\n",
    "  Updates the navigation section in an MkDocs configuration file.\n",
    "\n",
    "  Args:\n",
    "      navigation_data (dict): The navigation structure dictionary in MkDocs format.\n",
    "      mkdocs_config_file (str, optional): Path to the MkDocs configuration file. Defaults to \"mkdocs.yml\".\n",
    "\n",
    "  Raises:\n",
    "      FileNotFoundError: If the MkDocs configuration file is not found.\n",
    "  \"\"\"\n",
    "  file_path = Path(os.path.join(os.getcwd(), mkdocs_config_file))\n",
    "  # Assuming you have a function to read and write YAML files (e.g., from previous code)\n",
    "  try:\n",
    "      yaml_data = read_yaml_as_dict(file_path)\n",
    "      yaml_data.update(navigation_data)\n",
    "      write_yaml(file_path, yaml_data)\n",
    "  except FileNotFoundError:\n",
    "      raise FileNotFoundError(f\"MkDocs configuration file not found: {file_path}\")\n",
    "\n",
    "if __name__ == \"__main__\":\n",
    "    convert_ipynb_to_markdown(folder_path = \"./docs\")\n",
    "    navigation_data = create_navigation_from_markdown()\n",
    "    update_mkdocs_config(navigation_data)\n",
    "    print(\"Navigation menu for MkDocs created and potentially updated in mkdocs.yml\")\n",
    "    subprocess.run(\"\")\n"
   ]
  },
  {
   "cell_type": "code",
   "execution_count": 3,
   "metadata": {},
   "outputs": [],
   "source": [
    "os.chdir(\"..\")"
   ]
  },
  {
   "cell_type": "code",
   "execution_count": 4,
   "metadata": {},
   "outputs": [
    {
     "name": "stderr",
     "output_type": "stream",
     "text": [
      "\u001b[32m2024-05-12 19:36:42.601\u001b[0m | \u001b[1mINFO    \u001b[0m | \u001b[36m__main__\u001b[0m:\u001b[36mread_yaml_as_dict\u001b[0m:\u001b[36m29\u001b[0m - \u001b[1myaml file: mkdocs.yml loaded successfully\u001b[0m\n"
     ]
    },
    {
     "name": "stdout",
     "output_type": "stream",
     "text": [
      "\u001b[32m2024-05-12T19:36:42.601246+0400\u001b[0m \u001b[1myaml file: mkdocs.yml loaded successfully\u001b[0m\n"
     ]
    }
   ],
   "source": [
    "yaml_file = read_yaml_as_dict(Path(\"mkdocs.yml\" ))"
   ]
  },
  {
   "cell_type": "code",
   "execution_count": 5,
   "metadata": {},
   "outputs": [
    {
     "data": {
      "text/plain": [
       "[{'Home': ['index.md']},\n",
       " {'week3': ['week3/quick_sort_3_1.md']},\n",
       " {'week1': ['week1/exception_handling.md',\n",
       "   'week1/class&object.md',\n",
       "   'week1/time_it.md',\n",
       "   \"week1/Euclid's Algorithm.md\"]},\n",
       " {'week2': ['week2/lec2_3.md',\n",
       "   'week2/week summary.md',\n",
       "   'week2/lec2_2.md',\n",
       "   'week2/insert_sort_2_6.md',\n",
       "   'week2/mergesort2_7.md',\n",
       "   'week2/lec2_4_searchinlist.md',\n",
       "   'week2/selection_sort_2_5.md',\n",
       "   'week2/lec2.1.md']},\n",
       " {'reference': ['reference/priya_suggestion.md']}]"
      ]
     },
     "execution_count": 5,
     "metadata": {},
     "output_type": "execute_result"
    }
   ],
   "source": [
    "yaml_file['nav']"
   ]
  },
  {
   "cell_type": "code",
   "execution_count": 10,
   "metadata": {},
   "outputs": [
    {
     "data": {
      "text/plain": [
       "[{'Home': ['index.md']},\n",
       " {'week1': ['week1/exception_handling.md',\n",
       "   'week1/class&object.md',\n",
       "   'week1/time_it.md',\n",
       "   \"week1/Euclid's Algorithm.md\"]},\n",
       " {'week2': ['week2/lec2_3.md',\n",
       "   'week2/lec2_2.md',\n",
       "   'week2/lec2_4_searchinlist.md',\n",
       "   'week2/lec2.1.md']},\n",
       " {'reference': ['reference/priya_suggestion.md']}]"
      ]
     },
     "execution_count": 10,
     "metadata": {},
     "output_type": "execute_result"
    }
   ],
   "source": [
    "[{key: value} for key , value in nav_value.items()]"
   ]
  },
  {
   "cell_type": "code",
   "execution_count": null,
   "metadata": {},
   "outputs": [],
   "source": []
  },
  {
   "cell_type": "code",
   "execution_count": 6,
   "metadata": {},
   "outputs": [],
   "source": [
    "folder_path = \"./docs\"\n",
    "markdown_files = []\n",
    "for root, dirs, files in os.walk(folder_path):\n",
    "    for filename in files:\n",
    "        if filename.endswith(\".md\"):\n",
    "            full_path = os.path.join(root, filename)\n",
    "            directory_name = Path(\"/\".join(full_path.split(\"/\")[2:]))\n",
    "            markdown_files.append(directory_name)\n",
    "\n",
    "nav_value = {\"Home\" : []}\n",
    "for file in markdown_files:\n",
    "    split_value = str(file).split(\"/\")\n",
    "    if len(split_value)==1:\n",
    "        nav_value[\"Home\"].append(str(file))\n",
    "    else:\n",
    "        key = split_value[0]\n",
    "        if key not in nav_value.keys():\n",
    "            nav_value[key] = [str(file)]\n",
    "        else:\n",
    "            nav_value[key].append(str(file))\n",
    "to_update = [{key: value} for key , value in nav_value.items()]\n",
    "yaml_file['nav'] = to_update\n",
    "file_path = Path(os.path.join(os.getcwd(), \"mkdocs.yml\"))\n",
    "write_yaml(file_path, yaml_file)"
   ]
  },
  {
   "cell_type": "code",
   "execution_count": 17,
   "metadata": {},
   "outputs": [
    {
     "data": {
      "text/plain": [
       "[{'Home': ['index.md']},\n",
       " {'week1': ['week1/exception_handling.md',\n",
       "   'week1/class&object.md',\n",
       "   'week1/time_it.md',\n",
       "   \"week1/Euclid's Algorithm.md\"]},\n",
       " {'week2': ['week2/lec2_3.md', 'week2/lec2_2.md', 'week2/lec2.1.md']},\n",
       " {'reference': ['reference/priya_suggestion.md']}]"
      ]
     },
     "execution_count": 17,
     "metadata": {},
     "output_type": "execute_result"
    }
   ],
   "source": [
    "to_update"
   ]
  },
  {
   "cell_type": "code",
   "execution_count": 67,
   "metadata": {},
   "outputs": [],
   "source": [
    "yaml_file['nav'] = to_update"
   ]
  },
  {
   "cell_type": "code",
   "execution_count": 76,
   "metadata": {},
   "outputs": [],
   "source": [
    "file_path = Path(os.path.join(os.getcwd(), \"mkdocs.yml\"))"
   ]
  },
  {
   "cell_type": "code",
   "execution_count": 77,
   "metadata": {},
   "outputs": [],
   "source": [
    "write_yaml(file_path, yaml_file)"
   ]
  },
  {
   "cell_type": "code",
   "execution_count": 4,
   "metadata": {},
   "outputs": [
    {
     "name": "stderr",
     "output_type": "stream",
     "text": [
      "[NbConvertApp] Converting notebook ./docs/week2/lec2_4_searchinlist.ipynb to markdown\n",
      "[NbConvertApp] Writing 4206 bytes to docs/week2/lec2_4_searchinlist.md\n"
     ]
    },
    {
     "name": "stdout",
     "output_type": "stream",
     "text": [
      "Converted lec2_4_searchinlist.ipynb to markdown successfully.\n",
      "Converted lec2_3.ipynb to markdown successfully.\n"
     ]
    },
    {
     "name": "stderr",
     "output_type": "stream",
     "text": [
      "[NbConvertApp] Converting notebook ./docs/week2/lec2_3.ipynb to markdown\n",
      "[NbConvertApp] Writing 41851 bytes to docs/week2/lec2_3.md\n"
     ]
    }
   ],
   "source": [
    "import subprocess\n",
    "import os\n",
    "\n",
    "def convert_ipynb_to_markdown(folder_path):\n",
    "  \"\"\"Converts all Jupyter notebooks in a folder to markdown files.\n",
    "\n",
    "  Args:\n",
    "    folder_path: The path to the directory containing the notebooks.\n",
    "  \"\"\"\n",
    "  for root, dirs, files in os.walk(folder_path):\n",
    "    for filename in files:\n",
    "      if filename.endswith(\".ipynb\"):\n",
    "        full_path = os.path.join(root, filename)\n",
    "        # Check for nbconvert existence before running command\n",
    "        try:\n",
    "          subprocess.run([\"jupyter\", \"nbconvert\", \"--to\", \"markdown\", full_path], check=True)\n",
    "          print(f\"Converted {filename} to markdown successfully.\")\n",
    "        except subprocess.CalledProcessError:\n",
    "          print(f\"Error converting {filename}. nbconvert might not be installed.\")\n",
    "\n",
    "# Specify the folder path for conversion\n",
    "folder_path = \"./docs\"\n",
    "convert_ipynb_to_markdown(folder_path)\n"
   ]
  },
  {
   "cell_type": "code",
   "execution_count": 3,
   "metadata": {},
   "outputs": [],
   "source": [
    "os.chdir(\"..\")"
   ]
  },
  {
   "cell_type": "code",
   "execution_count": null,
   "metadata": {},
   "outputs": [],
   "source": []
  }
 ],
 "metadata": {
  "kernelspec": {
   "display_name": "pdsa",
   "language": "python",
   "name": "python3"
  },
  "language_info": {
   "codemirror_mode": {
    "name": "ipython",
    "version": 3
   },
   "file_extension": ".py",
   "mimetype": "text/x-python",
   "name": "python",
   "nbconvert_exporter": "python",
   "pygments_lexer": "ipython3",
   "version": "3.11.0"
  }
 },
 "nbformat": 4,
 "nbformat_minor": 2
}
